{
  "nbformat": 4,
  "nbformat_minor": 0,
  "metadata": {
    "colab": {
      "provenance": []
    },
    "kernelspec": {
      "name": "python3",
      "display_name": "Python 3"
    },
    "language_info": {
      "name": "python"
    }
  },
  "cells": [
    {
      "cell_type": "code",
      "execution_count": null,
      "metadata": {
        "colab": {
          "base_uri": "https://localhost:8080/"
        },
        "id": "k7Kqifw_eXve",
        "outputId": "65833ab2-030c-4e36-836f-d8d9cb989974"
      },
      "outputs": [
        {
          "output_type": "stream",
          "name": "stdout",
          "text": [
            "\n"
          ]
        }
      ],
      "source": [
        "from bs4 import BeautifulSoup\n",
        "import requests\n",
        "html_doc=\"\"\"\"\"\"\n",
        "soup = BeautifulSoup(html_doc, 'html.parser')\n",
        "\n",
        "print(soup.prettify())\n"
      ]
    },
    {
      "cell_type": "code",
      "source": [
        "#ver las urls de los paises\n",
        "#ver las urls de las paginas por paises"
      ],
      "metadata": {
        "id": "tpHazY1FDUC0"
      },
      "execution_count": null,
      "outputs": []
    },
    {
      "cell_type": "code",
      "source": [
        "lista=[\n",
        "'https://repositorioslatinoamericanos.uchile.cl/handle/2250/63640/recent-submissions',\n",
        "'https://repositorioslatinoamericanos.uchile.cl/handle/2250/63641/recent-submissions',\n",
        "'https://repositorioslatinoamericanos.uchile.cl/handle/2250/63642/recent-submissions',\n",
        "'https://repositorioslatinoamericanos.uchile.cl/handle/2250/63643/recent-submissions',\n",
        "'https://repositorioslatinoamericanos.uchile.cl/handle/2250/63644/recent-submissions',\n",
        "'https://repositorioslatinoamericanos.uchile.cl/handle/2250/63645/recent-submissions',\n",
        "'https://repositorioslatinoamericanos.uchile.cl/handle/2250/63646/recent-submissions',\n",
        "'https://repositorioslatinoamericanos.uchile.cl/handle/2250/63647/recent-submissions',\n",
        "'https://repositorioslatinoamericanos.uchile.cl/handle/2250/63648/recent-submissions',\n",
        "'https://repositorioslatinoamericanos.uchile.cl/handle/2250/63649/recent-submissions',\n",
        "'https://repositorioslatinoamericanos.uchile.cl/handle/2250/63650/recent-submissions',\n",
        "'https://repositorioslatinoamericanos.uchile.cl/handle/2250/63651/recent-submissions',\n",
        "'https://repositorioslatinoamericanos.uchile.cl/handle/2250/63652/recent-submissions',\n",
        "'https://repositorioslatinoamericanos.uchile.cl/handle/2250/63653/recent-submissions',\n",
        "'https://repositorioslatinoamericanos.uchile.cl/handle/2250/63654/recent-submissions',\n",
        "'https://repositorioslatinoamericanos.uchile.cl/handle/2250/63655/recent-submissions',\n",
        "'https://repositorioslatinoamericanos.uchile.cl/handle/2250/63656/recent-submissions',\n",
        "'https://repositorioslatinoamericanos.uchile.cl/handle/2250/63657/recent-submissions',\n",
        "'https://repositorioslatinoamericanos.uchile.cl/handle/2250/63658/recent-submissions',\n",
        "'https://repositorioslatinoamericanos.uchile.cl/handle/2250/647220/recent-submissions']"
      ],
      "metadata": {
        "id": "VZ-iUXIRKKRZ"
      },
      "execution_count": null,
      "outputs": []
    },
    {
      "cell_type": "code",
      "source": [
        "texto=[]\n",
        "for link in lista:\n",
        "  r = requests.get(link)\n",
        "  soup = BeautifulSoup(r.text, 'html')\n",
        "  enlaces = soup.find_all('p', {\"class\": \"pagination-info\"})\n",
        "  pais = soup.find_all('h2', {\"class\": \"ds-div-head peqn page-header first-page-header naranjo\"})\n",
        "  texto.append(enlaces[0].text +' '+pais[0].text)"
      ],
      "metadata": {
        "id": "7Z8XY9P9E3eL"
      },
      "execution_count": null,
      "outputs": []
    },
    {
      "cell_type": "code",
      "source": [
        "from spacy.tokenizer import Tokenizer\n",
        "from spacy.lang.es import Spanish\n",
        "nlp = Spanish()\n",
        "# Create a blank Tokenizer with just the English vocab\n",
        "tokenizer = Tokenizer(nlp.vocab)\n",
        "col_pais=[]\n",
        "col_numero=[]\n",
        "for t in texto:\n",
        "  tokens = tokenizer(t)\n",
        "  col_pais.append(tokens[5])\n",
        "  col_numero.append(tokens[4])"
      ],
      "metadata": {
        "id": "vh61rbAV3CjZ",
        "colab": {
          "base_uri": "https://localhost:8080/"
        },
        "outputId": "c4d1e0ab-25c0-480a-e86f-21c47859ff68"
      },
      "execution_count": null,
      "outputs": [
        {
          "output_type": "stream",
          "name": "stderr",
          "text": [
            "/usr/local/lib/python3.8/dist-packages/torch/cuda/__init__.py:497: UserWarning: Can't initialize NVML\n",
            "  warnings.warn(\"Can't initialize NVML\")\n"
          ]
        }
      ]
    },
    {
      "cell_type": "code",
      "source": [
        "import pandas as pd\n",
        "data=pd.DataFrame(lista, columns=['link'])\n",
        "data['Pais']=col_pais\n",
        "data['Numero']=col_numero\n",
        "max=[]\n",
        "for i in range(0,20):\n",
        "  max.append(int(data['Numero'][i].text)-20)\n",
        "data['Max_num']=max"
      ],
      "metadata": {
        "id": "2hCEvCYj4Xn1"
      },
      "execution_count": null,
      "outputs": []
    },
    {
      "cell_type": "code",
      "source": [
        "data"
      ],
      "metadata": {
        "colab": {
          "base_uri": "https://localhost:8080/",
          "height": 676
        },
        "id": "34QHQZ-Y6D_c",
        "outputId": "1357e9e0-d4c0-418e-98ca-c9cd612ea255"
      },
      "execution_count": null,
      "outputs": [
        {
          "output_type": "execute_result",
          "data": {
            "text/plain": [
              "                                                 link        Pais   Numero  \\\n",
              "0   https://repositorioslatinoamericanos.uchile.cl...  Argentina:   428830   \n",
              "1   https://repositorioslatinoamericanos.uchile.cl...       Perú:   384992   \n",
              "2   https://repositorioslatinoamericanos.uchile.cl...     Brasil:  1634913   \n",
              "3   https://repositorioslatinoamericanos.uchile.cl...    Ecuador:   180201   \n",
              "4   https://repositorioslatinoamericanos.uchile.cl...  Venezuela:   104051   \n",
              "5   https://repositorioslatinoamericanos.uchile.cl...    Bolivia:    20888   \n",
              "6   https://repositorioslatinoamericanos.uchile.cl...   Colombia:   621082   \n",
              "7   https://repositorioslatinoamericanos.uchile.cl...       Costa    94282   \n",
              "8   https://repositorioslatinoamericanos.uchile.cl...       Cuba:    12840   \n",
              "9   https://repositorioslatinoamericanos.uchile.cl...          El    15302   \n",
              "10  https://repositorioslatinoamericanos.uchile.cl...  Guatemala:    19752   \n",
              "11  https://repositorioslatinoamericanos.uchile.cl...    Uruguay:    37829   \n",
              "12  https://repositorioslatinoamericanos.uchile.cl...   Honduras:     5827   \n",
              "13  https://repositorioslatinoamericanos.uchile.cl...     México:   308662   \n",
              "14  https://repositorioslatinoamericanos.uchile.cl...   Paraguay:     1365   \n",
              "15  https://repositorioslatinoamericanos.uchile.cl...   República     9664   \n",
              "16  https://repositorioslatinoamericanos.uchile.cl...  Nicaragua:    29415   \n",
              "17  https://repositorioslatinoamericanos.uchile.cl...     Panamá:    16484   \n",
              "18  https://repositorioslatinoamericanos.uchile.cl...      Haití:        0   \n",
              "19  https://repositorioslatinoamericanos.uchile.cl...      Puerto     5480   \n",
              "\n",
              "    Max_num  \n",
              "0    428810  \n",
              "1    384972  \n",
              "2   1634893  \n",
              "3    180181  \n",
              "4    104031  \n",
              "5     20868  \n",
              "6    621062  \n",
              "7     94262  \n",
              "8     12820  \n",
              "9     15282  \n",
              "10    19732  \n",
              "11    37809  \n",
              "12     5807  \n",
              "13   308642  \n",
              "14     1345  \n",
              "15     9644  \n",
              "16    29395  \n",
              "17    16464  \n",
              "18      -20  \n",
              "19     5460  "
            ],
            "text/html": [
              "\n",
              "  <div id=\"df-3d3f129a-2530-45ea-86a3-d0f8469ba400\">\n",
              "    <div class=\"colab-df-container\">\n",
              "      <div>\n",
              "<style scoped>\n",
              "    .dataframe tbody tr th:only-of-type {\n",
              "        vertical-align: middle;\n",
              "    }\n",
              "\n",
              "    .dataframe tbody tr th {\n",
              "        vertical-align: top;\n",
              "    }\n",
              "\n",
              "    .dataframe thead th {\n",
              "        text-align: right;\n",
              "    }\n",
              "</style>\n",
              "<table border=\"1\" class=\"dataframe\">\n",
              "  <thead>\n",
              "    <tr style=\"text-align: right;\">\n",
              "      <th></th>\n",
              "      <th>link</th>\n",
              "      <th>Pais</th>\n",
              "      <th>Numero</th>\n",
              "      <th>Max_num</th>\n",
              "    </tr>\n",
              "  </thead>\n",
              "  <tbody>\n",
              "    <tr>\n",
              "      <th>0</th>\n",
              "      <td>https://repositorioslatinoamericanos.uchile.cl...</td>\n",
              "      <td>Argentina:</td>\n",
              "      <td>428830</td>\n",
              "      <td>428810</td>\n",
              "    </tr>\n",
              "    <tr>\n",
              "      <th>1</th>\n",
              "      <td>https://repositorioslatinoamericanos.uchile.cl...</td>\n",
              "      <td>Perú:</td>\n",
              "      <td>384992</td>\n",
              "      <td>384972</td>\n",
              "    </tr>\n",
              "    <tr>\n",
              "      <th>2</th>\n",
              "      <td>https://repositorioslatinoamericanos.uchile.cl...</td>\n",
              "      <td>Brasil:</td>\n",
              "      <td>1634913</td>\n",
              "      <td>1634893</td>\n",
              "    </tr>\n",
              "    <tr>\n",
              "      <th>3</th>\n",
              "      <td>https://repositorioslatinoamericanos.uchile.cl...</td>\n",
              "      <td>Ecuador:</td>\n",
              "      <td>180201</td>\n",
              "      <td>180181</td>\n",
              "    </tr>\n",
              "    <tr>\n",
              "      <th>4</th>\n",
              "      <td>https://repositorioslatinoamericanos.uchile.cl...</td>\n",
              "      <td>Venezuela:</td>\n",
              "      <td>104051</td>\n",
              "      <td>104031</td>\n",
              "    </tr>\n",
              "    <tr>\n",
              "      <th>5</th>\n",
              "      <td>https://repositorioslatinoamericanos.uchile.cl...</td>\n",
              "      <td>Bolivia:</td>\n",
              "      <td>20888</td>\n",
              "      <td>20868</td>\n",
              "    </tr>\n",
              "    <tr>\n",
              "      <th>6</th>\n",
              "      <td>https://repositorioslatinoamericanos.uchile.cl...</td>\n",
              "      <td>Colombia:</td>\n",
              "      <td>621082</td>\n",
              "      <td>621062</td>\n",
              "    </tr>\n",
              "    <tr>\n",
              "      <th>7</th>\n",
              "      <td>https://repositorioslatinoamericanos.uchile.cl...</td>\n",
              "      <td>Costa</td>\n",
              "      <td>94282</td>\n",
              "      <td>94262</td>\n",
              "    </tr>\n",
              "    <tr>\n",
              "      <th>8</th>\n",
              "      <td>https://repositorioslatinoamericanos.uchile.cl...</td>\n",
              "      <td>Cuba:</td>\n",
              "      <td>12840</td>\n",
              "      <td>12820</td>\n",
              "    </tr>\n",
              "    <tr>\n",
              "      <th>9</th>\n",
              "      <td>https://repositorioslatinoamericanos.uchile.cl...</td>\n",
              "      <td>El</td>\n",
              "      <td>15302</td>\n",
              "      <td>15282</td>\n",
              "    </tr>\n",
              "    <tr>\n",
              "      <th>10</th>\n",
              "      <td>https://repositorioslatinoamericanos.uchile.cl...</td>\n",
              "      <td>Guatemala:</td>\n",
              "      <td>19752</td>\n",
              "      <td>19732</td>\n",
              "    </tr>\n",
              "    <tr>\n",
              "      <th>11</th>\n",
              "      <td>https://repositorioslatinoamericanos.uchile.cl...</td>\n",
              "      <td>Uruguay:</td>\n",
              "      <td>37829</td>\n",
              "      <td>37809</td>\n",
              "    </tr>\n",
              "    <tr>\n",
              "      <th>12</th>\n",
              "      <td>https://repositorioslatinoamericanos.uchile.cl...</td>\n",
              "      <td>Honduras:</td>\n",
              "      <td>5827</td>\n",
              "      <td>5807</td>\n",
              "    </tr>\n",
              "    <tr>\n",
              "      <th>13</th>\n",
              "      <td>https://repositorioslatinoamericanos.uchile.cl...</td>\n",
              "      <td>México:</td>\n",
              "      <td>308662</td>\n",
              "      <td>308642</td>\n",
              "    </tr>\n",
              "    <tr>\n",
              "      <th>14</th>\n",
              "      <td>https://repositorioslatinoamericanos.uchile.cl...</td>\n",
              "      <td>Paraguay:</td>\n",
              "      <td>1365</td>\n",
              "      <td>1345</td>\n",
              "    </tr>\n",
              "    <tr>\n",
              "      <th>15</th>\n",
              "      <td>https://repositorioslatinoamericanos.uchile.cl...</td>\n",
              "      <td>República</td>\n",
              "      <td>9664</td>\n",
              "      <td>9644</td>\n",
              "    </tr>\n",
              "    <tr>\n",
              "      <th>16</th>\n",
              "      <td>https://repositorioslatinoamericanos.uchile.cl...</td>\n",
              "      <td>Nicaragua:</td>\n",
              "      <td>29415</td>\n",
              "      <td>29395</td>\n",
              "    </tr>\n",
              "    <tr>\n",
              "      <th>17</th>\n",
              "      <td>https://repositorioslatinoamericanos.uchile.cl...</td>\n",
              "      <td>Panamá:</td>\n",
              "      <td>16484</td>\n",
              "      <td>16464</td>\n",
              "    </tr>\n",
              "    <tr>\n",
              "      <th>18</th>\n",
              "      <td>https://repositorioslatinoamericanos.uchile.cl...</td>\n",
              "      <td>Haití:</td>\n",
              "      <td>0</td>\n",
              "      <td>-20</td>\n",
              "    </tr>\n",
              "    <tr>\n",
              "      <th>19</th>\n",
              "      <td>https://repositorioslatinoamericanos.uchile.cl...</td>\n",
              "      <td>Puerto</td>\n",
              "      <td>5480</td>\n",
              "      <td>5460</td>\n",
              "    </tr>\n",
              "  </tbody>\n",
              "</table>\n",
              "</div>\n",
              "      <button class=\"colab-df-convert\" onclick=\"convertToInteractive('df-3d3f129a-2530-45ea-86a3-d0f8469ba400')\"\n",
              "              title=\"Convert this dataframe to an interactive table.\"\n",
              "              style=\"display:none;\">\n",
              "        \n",
              "  <svg xmlns=\"http://www.w3.org/2000/svg\" height=\"24px\"viewBox=\"0 0 24 24\"\n",
              "       width=\"24px\">\n",
              "    <path d=\"M0 0h24v24H0V0z\" fill=\"none\"/>\n",
              "    <path d=\"M18.56 5.44l.94 2.06.94-2.06 2.06-.94-2.06-.94-.94-2.06-.94 2.06-2.06.94zm-11 1L8.5 8.5l.94-2.06 2.06-.94-2.06-.94L8.5 2.5l-.94 2.06-2.06.94zm10 10l.94 2.06.94-2.06 2.06-.94-2.06-.94-.94-2.06-.94 2.06-2.06.94z\"/><path d=\"M17.41 7.96l-1.37-1.37c-.4-.4-.92-.59-1.43-.59-.52 0-1.04.2-1.43.59L10.3 9.45l-7.72 7.72c-.78.78-.78 2.05 0 2.83L4 21.41c.39.39.9.59 1.41.59.51 0 1.02-.2 1.41-.59l7.78-7.78 2.81-2.81c.8-.78.8-2.07 0-2.86zM5.41 20L4 18.59l7.72-7.72 1.47 1.35L5.41 20z\"/>\n",
              "  </svg>\n",
              "      </button>\n",
              "      \n",
              "  <style>\n",
              "    .colab-df-container {\n",
              "      display:flex;\n",
              "      flex-wrap:wrap;\n",
              "      gap: 12px;\n",
              "    }\n",
              "\n",
              "    .colab-df-convert {\n",
              "      background-color: #E8F0FE;\n",
              "      border: none;\n",
              "      border-radius: 50%;\n",
              "      cursor: pointer;\n",
              "      display: none;\n",
              "      fill: #1967D2;\n",
              "      height: 32px;\n",
              "      padding: 0 0 0 0;\n",
              "      width: 32px;\n",
              "    }\n",
              "\n",
              "    .colab-df-convert:hover {\n",
              "      background-color: #E2EBFA;\n",
              "      box-shadow: 0px 1px 2px rgba(60, 64, 67, 0.3), 0px 1px 3px 1px rgba(60, 64, 67, 0.15);\n",
              "      fill: #174EA6;\n",
              "    }\n",
              "\n",
              "    [theme=dark] .colab-df-convert {\n",
              "      background-color: #3B4455;\n",
              "      fill: #D2E3FC;\n",
              "    }\n",
              "\n",
              "    [theme=dark] .colab-df-convert:hover {\n",
              "      background-color: #434B5C;\n",
              "      box-shadow: 0px 1px 3px 1px rgba(0, 0, 0, 0.15);\n",
              "      filter: drop-shadow(0px 1px 2px rgba(0, 0, 0, 0.3));\n",
              "      fill: #FFFFFF;\n",
              "    }\n",
              "  </style>\n",
              "\n",
              "      <script>\n",
              "        const buttonEl =\n",
              "          document.querySelector('#df-3d3f129a-2530-45ea-86a3-d0f8469ba400 button.colab-df-convert');\n",
              "        buttonEl.style.display =\n",
              "          google.colab.kernel.accessAllowed ? 'block' : 'none';\n",
              "\n",
              "        async function convertToInteractive(key) {\n",
              "          const element = document.querySelector('#df-3d3f129a-2530-45ea-86a3-d0f8469ba400');\n",
              "          const dataTable =\n",
              "            await google.colab.kernel.invokeFunction('convertToInteractive',\n",
              "                                                     [key], {});\n",
              "          if (!dataTable) return;\n",
              "\n",
              "          const docLinkHtml = 'Like what you see? Visit the ' +\n",
              "            '<a target=\"_blank\" href=https://colab.research.google.com/notebooks/data_table.ipynb>data table notebook</a>'\n",
              "            + ' to learn more about interactive tables.';\n",
              "          element.innerHTML = '';\n",
              "          dataTable['output_type'] = 'display_data';\n",
              "          await google.colab.output.renderOutput(dataTable, element);\n",
              "          const docLink = document.createElement('div');\n",
              "          docLink.innerHTML = docLinkHtml;\n",
              "          element.appendChild(docLink);\n",
              "        }\n",
              "      </script>\n",
              "    </div>\n",
              "  </div>\n",
              "  "
            ]
          },
          "metadata": {},
          "execution_count": 7
        }
      ]
    },
    {
      "cell_type": "code",
      "source": [
        "from tqdm import tqdm"
      ],
      "metadata": {
        "id": "IqWOyq6UnPri"
      },
      "execution_count": null,
      "outputs": []
    },
    {
      "cell_type": "code",
      "source": [
        "fin=[]\n",
        "for i in tqdm(range(0, len(data))):\n",
        "  num=0\n",
        "  for j in range(0,int(data['Max_num'][i]/20)+1):#data['Max_num'][12]):#lista:\n",
        "    num=num+20\n",
        "    link_pag= lista[i]+'?offset='+str(num)\n",
        "        #link_pag=data['Numero'][i].text\n",
        "    fin.append(link_pag)"
      ],
      "metadata": {
        "id": "2J06irDfyojO",
        "colab": {
          "base_uri": "https://localhost:8080/"
        },
        "outputId": "2231db4a-6d00-4d21-8331-6d9023a32ba7"
      },
      "execution_count": null,
      "outputs": [
        {
          "output_type": "stream",
          "name": "stderr",
          "text": [
            "100%|██████████| 20/20 [00:00<00:00, 126.78it/s]\n"
          ]
        }
      ]
    },
    {
      "cell_type": "code",
      "source": [
        "#Hacer los links para sacar las tesis_fin=\n",
        "data_fin=pd.DataFrame(fin,columns=['Link_tesis'])\n",
        "data_fin.to_csv('LINK_PAPER_UAC.csv')"
      ],
      "metadata": {
        "id": "lACiaVUIN-up"
      },
      "execution_count": null,
      "outputs": []
    },
    {
      "cell_type": "code",
      "source": [
        "data_fin['Link_tesis'][0]"
      ],
      "metadata": {
        "colab": {
          "base_uri": "https://localhost:8080/",
          "height": 36
        },
        "id": "PyaCKngDiJ7J",
        "outputId": "ede9db86-5afc-4a70-cfd9-b8e504f22850"
      },
      "execution_count": null,
      "outputs": [
        {
          "output_type": "execute_result",
          "data": {
            "text/plain": [
              "'https://repositorioslatinoamericanos.uchile.cl/handle/2250/63640/recent-submissions?offset=20'"
            ],
            "application/vnd.google.colaboratory.intrinsic+json": {
              "type": "string"
            }
          },
          "metadata": {},
          "execution_count": 12
        }
      ]
    },
    {
      "cell_type": "code",
      "source": [
        "titulo=[]\n",
        "autores=[]\n",
        "links_tesis=[]\n",
        "for link in tqdm(data_fin['Link_tesis']):\n",
        "  r = requests.get(link)\n",
        "  soup = BeautifulSoup(r.text, 'html')\n",
        "  enlaces = soup.find_all('h4', {\"class\": \"artifact-title\"})\n",
        "  autor = soup.find_all('div', {\"class\": \"artifact-info\"})\n",
        "  for enlace in enlaces:\n",
        "    links_tesis.append(\"https://repositorioslatinoamericanos.uchile.cl\"+enlace.find_all('a', href=True)[0]['href']+'?show=full')\n",
        "    titulo.append(enlace.text)\n",
        "  for a in autor:\n",
        "    autores.append(a.text)"
      ],
      "metadata": {
        "colab": {
          "base_uri": "https://localhost:8080/"
        },
        "id": "alfQwVZTllxx",
        "outputId": "cc094e8f-4d11-4b9a-efd4-3699717c5dac"
      },
      "execution_count": null,
      "outputs": [
        {
          "output_type": "stream",
          "name": "stderr",
          "text": [
            "  5%|▌         | 10664/196587 [4:47:39<82:39:47,  1.60s/it]"
          ]
        }
      ]
    },
    {
      "cell_type": "code",
      "source": [
        "data_name=[]\n",
        "data_text=[]\n",
        "for link in tqdm(links_tesis):\n",
        "  r = requests.get(link)\n",
        "  soup = BeautifulSoup(r.text, 'html')\n",
        "  table = soup.find_all('table',{\"class\":\"ds-includeSet-table detailtable table table-striped table-hover\"})\n",
        "  rows = table[0].find_all('tr')\n",
        "  data_name1=[]\n",
        "  data_text1=[]\n",
        "  for row in tqdm(rows):\n",
        "      cols_name = row.find_all('td',{'class':\"label-cell\"})\n",
        "      cols_text = row.find_all('td',{'class':\"word-break\"})\n",
        "      data_name1.append(cols_name[0].text)\n",
        "      data_text1.append(cols_text[0].text)\n",
        "  data_name.append(data_name1)\n",
        "  data_text.append(data_text1)"
      ],
      "metadata": {
        "id": "mBckqxqe_-P1"
      },
      "execution_count": null,
      "outputs": []
    },
    {
      "cell_type": "code",
      "source": [
        "data_final=pd.DataFrame(links_tesis[0:1898],columns=['Links'])\n",
        "data_final['data_name']=data_name\n",
        "data_final['data_text']=data_text"
      ],
      "metadata": {
        "id": "Rbl-Nh1fUi-4"
      },
      "execution_count": null,
      "outputs": []
    },
    {
      "cell_type": "code",
      "source": [
        "data_final.to_csv('LINK_PAPER_UAC_META_DATA.csv')"
      ],
      "metadata": {
        "id": "8IIBcRNTZVYb"
      },
      "execution_count": null,
      "outputs": []
    },
    {
      "cell_type": "code",
      "source": [
        "data_final.head()"
      ],
      "metadata": {
        "id": "5PJXxhs6Z2zE",
        "colab": {
          "base_uri": "https://localhost:8080/",
          "height": 206
        },
        "outputId": "bdb86a09-e644-44cc-ddf2-b8c5a90f7c23"
      },
      "execution_count": null,
      "outputs": [
        {
          "output_type": "execute_result",
          "data": {
            "text/plain": [
              "                                               Links  \\\n",
              "0  https://repositorioslatinoamericanos.uchile.cl...   \n",
              "1  https://repositorioslatinoamericanos.uchile.cl...   \n",
              "2  https://repositorioslatinoamericanos.uchile.cl...   \n",
              "3  https://repositorioslatinoamericanos.uchile.cl...   \n",
              "4  https://repositorioslatinoamericanos.uchile.cl...   \n",
              "\n",
              "                                           data_name  \\\n",
              "0  [dc.contributor, dc.creator, dc.date, dc.date....   \n",
              "1  [dc.contributor, dc.creator, dc.creator, dc.da...   \n",
              "2  [dc.contributor, dc.creator, dc.date, dc.date....   \n",
              "3  [dc.contributor, dc.creator, dc.date, dc.date....   \n",
              "4  [dc.contributor, dc.creator, dc.date, dc.date....   \n",
              "\n",
              "                                           data_text  \n",
              "0  [, Buchbinder, Pablo, 2022-11-24, 2022-12-12T1...  \n",
              "1  [, Caretta, Gabriela, Gayol, Sandra, 2022-11-2...  \n",
              "2  [, Ramos, Gabriela, 2022-11-24, 2022-12-12T19:...  \n",
              "3  [, Chaile (dir.), Telma Liliana, 2022-11-24, 2...  \n",
              "4  [, Nanni, Facundo, 2022-11-24, 2022-12-12T19:0...  "
            ],
            "text/html": [
              "\n",
              "  <div id=\"df-723c9ba9-cece-417e-9d04-f00cc3f04525\">\n",
              "    <div class=\"colab-df-container\">\n",
              "      <div>\n",
              "<style scoped>\n",
              "    .dataframe tbody tr th:only-of-type {\n",
              "        vertical-align: middle;\n",
              "    }\n",
              "\n",
              "    .dataframe tbody tr th {\n",
              "        vertical-align: top;\n",
              "    }\n",
              "\n",
              "    .dataframe thead th {\n",
              "        text-align: right;\n",
              "    }\n",
              "</style>\n",
              "<table border=\"1\" class=\"dataframe\">\n",
              "  <thead>\n",
              "    <tr style=\"text-align: right;\">\n",
              "      <th></th>\n",
              "      <th>Links</th>\n",
              "      <th>data_name</th>\n",
              "      <th>data_text</th>\n",
              "    </tr>\n",
              "  </thead>\n",
              "  <tbody>\n",
              "    <tr>\n",
              "      <th>0</th>\n",
              "      <td>https://repositorioslatinoamericanos.uchile.cl...</td>\n",
              "      <td>[dc.contributor, dc.creator, dc.date, dc.date....</td>\n",
              "      <td>[, Buchbinder, Pablo, 2022-11-24, 2022-12-12T1...</td>\n",
              "    </tr>\n",
              "    <tr>\n",
              "      <th>1</th>\n",
              "      <td>https://repositorioslatinoamericanos.uchile.cl...</td>\n",
              "      <td>[dc.contributor, dc.creator, dc.creator, dc.da...</td>\n",
              "      <td>[, Caretta, Gabriela, Gayol, Sandra, 2022-11-2...</td>\n",
              "    </tr>\n",
              "    <tr>\n",
              "      <th>2</th>\n",
              "      <td>https://repositorioslatinoamericanos.uchile.cl...</td>\n",
              "      <td>[dc.contributor, dc.creator, dc.date, dc.date....</td>\n",
              "      <td>[, Ramos, Gabriela, 2022-11-24, 2022-12-12T19:...</td>\n",
              "    </tr>\n",
              "    <tr>\n",
              "      <th>3</th>\n",
              "      <td>https://repositorioslatinoamericanos.uchile.cl...</td>\n",
              "      <td>[dc.contributor, dc.creator, dc.date, dc.date....</td>\n",
              "      <td>[, Chaile (dir.), Telma Liliana, 2022-11-24, 2...</td>\n",
              "    </tr>\n",
              "    <tr>\n",
              "      <th>4</th>\n",
              "      <td>https://repositorioslatinoamericanos.uchile.cl...</td>\n",
              "      <td>[dc.contributor, dc.creator, dc.date, dc.date....</td>\n",
              "      <td>[, Nanni, Facundo, 2022-11-24, 2022-12-12T19:0...</td>\n",
              "    </tr>\n",
              "  </tbody>\n",
              "</table>\n",
              "</div>\n",
              "      <button class=\"colab-df-convert\" onclick=\"convertToInteractive('df-723c9ba9-cece-417e-9d04-f00cc3f04525')\"\n",
              "              title=\"Convert this dataframe to an interactive table.\"\n",
              "              style=\"display:none;\">\n",
              "        \n",
              "  <svg xmlns=\"http://www.w3.org/2000/svg\" height=\"24px\"viewBox=\"0 0 24 24\"\n",
              "       width=\"24px\">\n",
              "    <path d=\"M0 0h24v24H0V0z\" fill=\"none\"/>\n",
              "    <path d=\"M18.56 5.44l.94 2.06.94-2.06 2.06-.94-2.06-.94-.94-2.06-.94 2.06-2.06.94zm-11 1L8.5 8.5l.94-2.06 2.06-.94-2.06-.94L8.5 2.5l-.94 2.06-2.06.94zm10 10l.94 2.06.94-2.06 2.06-.94-2.06-.94-.94-2.06-.94 2.06-2.06.94z\"/><path d=\"M17.41 7.96l-1.37-1.37c-.4-.4-.92-.59-1.43-.59-.52 0-1.04.2-1.43.59L10.3 9.45l-7.72 7.72c-.78.78-.78 2.05 0 2.83L4 21.41c.39.39.9.59 1.41.59.51 0 1.02-.2 1.41-.59l7.78-7.78 2.81-2.81c.8-.78.8-2.07 0-2.86zM5.41 20L4 18.59l7.72-7.72 1.47 1.35L5.41 20z\"/>\n",
              "  </svg>\n",
              "      </button>\n",
              "      \n",
              "  <style>\n",
              "    .colab-df-container {\n",
              "      display:flex;\n",
              "      flex-wrap:wrap;\n",
              "      gap: 12px;\n",
              "    }\n",
              "\n",
              "    .colab-df-convert {\n",
              "      background-color: #E8F0FE;\n",
              "      border: none;\n",
              "      border-radius: 50%;\n",
              "      cursor: pointer;\n",
              "      display: none;\n",
              "      fill: #1967D2;\n",
              "      height: 32px;\n",
              "      padding: 0 0 0 0;\n",
              "      width: 32px;\n",
              "    }\n",
              "\n",
              "    .colab-df-convert:hover {\n",
              "      background-color: #E2EBFA;\n",
              "      box-shadow: 0px 1px 2px rgba(60, 64, 67, 0.3), 0px 1px 3px 1px rgba(60, 64, 67, 0.15);\n",
              "      fill: #174EA6;\n",
              "    }\n",
              "\n",
              "    [theme=dark] .colab-df-convert {\n",
              "      background-color: #3B4455;\n",
              "      fill: #D2E3FC;\n",
              "    }\n",
              "\n",
              "    [theme=dark] .colab-df-convert:hover {\n",
              "      background-color: #434B5C;\n",
              "      box-shadow: 0px 1px 3px 1px rgba(0, 0, 0, 0.15);\n",
              "      filter: drop-shadow(0px 1px 2px rgba(0, 0, 0, 0.3));\n",
              "      fill: #FFFFFF;\n",
              "    }\n",
              "  </style>\n",
              "\n",
              "      <script>\n",
              "        const buttonEl =\n",
              "          document.querySelector('#df-723c9ba9-cece-417e-9d04-f00cc3f04525 button.colab-df-convert');\n",
              "        buttonEl.style.display =\n",
              "          google.colab.kernel.accessAllowed ? 'block' : 'none';\n",
              "\n",
              "        async function convertToInteractive(key) {\n",
              "          const element = document.querySelector('#df-723c9ba9-cece-417e-9d04-f00cc3f04525');\n",
              "          const dataTable =\n",
              "            await google.colab.kernel.invokeFunction('convertToInteractive',\n",
              "                                                     [key], {});\n",
              "          if (!dataTable) return;\n",
              "\n",
              "          const docLinkHtml = 'Like what you see? Visit the ' +\n",
              "            '<a target=\"_blank\" href=https://colab.research.google.com/notebooks/data_table.ipynb>data table notebook</a>'\n",
              "            + ' to learn more about interactive tables.';\n",
              "          element.innerHTML = '';\n",
              "          dataTable['output_type'] = 'display_data';\n",
              "          await google.colab.output.renderOutput(dataTable, element);\n",
              "          const docLink = document.createElement('div');\n",
              "          docLink.innerHTML = docLinkHtml;\n",
              "          element.appendChild(docLink);\n",
              "        }\n",
              "      </script>\n",
              "    </div>\n",
              "  </div>\n",
              "  "
            ]
          },
          "metadata": {},
          "execution_count": 181
        }
      ]
    },
    {
      "cell_type": "code",
      "source": [],
      "metadata": {
        "id": "meW9oSjn3Pdq"
      },
      "execution_count": null,
      "outputs": []
    }
  ]
}